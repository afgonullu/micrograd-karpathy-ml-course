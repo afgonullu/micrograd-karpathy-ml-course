{
 "cells": [
  {
   "cell_type": "code",
   "execution_count": 1,
   "id": "0074f111-6678-4e8c-b608-ffcfe027557c",
   "metadata": {},
   "outputs": [
    {
     "name": "stdout",
     "output_type": "stream",
     "text": [
      "Collecting micrograd\n",
      "  Downloading micrograd-0.1.0-py3-none-any.whl.metadata (2.6 kB)\n",
      "Downloading micrograd-0.1.0-py3-none-any.whl (4.9 kB)\n",
      "Installing collected packages: micrograd\n",
      "Successfully installed micrograd-0.1.0\n",
      "Note: you may need to restart the kernel to use updated packages.\n"
     ]
    }
   ],
   "source": [
    "pip install micrograd"
   ]
  },
  {
   "cell_type": "code",
   "execution_count": 3,
   "id": "13c3ec67-bb87-4643-acc6-70fe9846b4b8",
   "metadata": {},
   "outputs": [
    {
     "name": "stdout",
     "output_type": "stream",
     "text": [
      "a Value(data=-4.0, grad=0)\n",
      "b Value(data=2.0, grad=0)\n",
      "c Value(data=-2.0, grad=0)\n",
      "d Value(data=0.0, grad=0)\n",
      "c Value(data=-3.0, grad=0)\n",
      "c Value(data=-1.0, grad=0)\n",
      "d Value(data=0.0, grad=0)\n",
      "d Value(data=6.0, grad=0)\n",
      "e Value(data=-7.0, grad=0)\n",
      "f Value(data=49.0, grad=0)\n",
      "g Value(data=24.5, grad=0)\n",
      "g Value(data=24.70408163265306, grad=0)\n",
      "end\n",
      "Value(data=-4.0, grad=0)\n",
      "Value(data=2.0, grad=0)\n",
      "Value(data=-1.0, grad=0)\n",
      "Value(data=6.0, grad=0)\n",
      "Value(data=-7.0, grad=0)\n",
      "Value(data=49.0, grad=0)\n",
      "Value(data=24.70408163265306, grad=0)\n",
      "24.7041\n",
      "24.704082\n",
      "after backward() callback\n",
      "Value(data=-4.0, grad=138.83381924198252)\n",
      "Value(data=2.0, grad=645.5772594752186)\n",
      "Value(data=-1.0, grad=-6.941690962099126)\n",
      "Value(data=6.0, grad=6.941690962099126)\n",
      "Value(data=-7.0, grad=-6.941690962099126)\n",
      "Value(data=49.0, grad=0.4958350687213661)\n",
      "Value(data=24.70408163265306, grad=1)\n",
      "138.8338\n",
      "645.5773\n"
     ]
    }
   ],
   "source": [
    "from micrograd.engine import Value\n",
    "\n",
    "a = Value(-4.0)\n",
    "print(\"a\",a)\n",
    "b = Value(2.0)\n",
    "print(\"b\",b)\n",
    "c = a + b\n",
    "print(\"c\",c)\n",
    "d = a * b + b**3\n",
    "print(\"d\",d)\n",
    "c += c + 1\n",
    "print(\"c\",c)\n",
    "c += 1 + c + (-a)\n",
    "print(\"c\",c)\n",
    "d += d * 2 + (b + a).relu()\n",
    "print(\"d\",d)\n",
    "d += 3 * d + (b - a).relu()\n",
    "print(\"d\",d)\n",
    "e = c - d\n",
    "print(\"e\",e)\n",
    "f = e**2\n",
    "print(\"f\",f)\n",
    "g = f / 2.0\n",
    "print(\"g\",g)\n",
    "g += 10.0 / f\n",
    "print(\"g\",g)\n",
    "print(\"end\")\n",
    "print(a)\n",
    "print(b)\n",
    "print(c)\n",
    "print(d)\n",
    "print(e)\n",
    "print(f)\n",
    "print(g)\n",
    "print(f'{g.data:.4f}') # prints 24.7041, the outcome of this forward pass\n",
    "print(f'{g.data:.6f}') # prints 24.7041, the outcome of this forward pass\n",
    "g.backward()\n",
    "print(\"after backward() callback\")\n",
    "print(a)\n",
    "print(b)\n",
    "print(c)\n",
    "print(d)\n",
    "print(e)\n",
    "print(f)\n",
    "print(g)\n",
    "print(f'{a.grad:.4f}') # prints 138.8338, i.e. the numerical value of dg/da\n",
    "print(f'{b.grad:.4f}') # prints 645.5773, i.e. the numerical value of dg/db"
   ]
  },
  {
   "cell_type": "code",
   "execution_count": null,
   "id": "1609e937-1e7b-4f38-9e16-3034e9d2f688",
   "metadata": {},
   "outputs": [],
   "source": []
  }
 ],
 "metadata": {
  "kernelspec": {
   "display_name": ".venv",
   "language": "python",
   "name": "python3"
  },
  "language_info": {
   "codemirror_mode": {
    "name": "ipython",
    "version": 3
   },
   "file_extension": ".py",
   "mimetype": "text/x-python",
   "name": "python",
   "nbconvert_exporter": "python",
   "pygments_lexer": "ipython3",
   "version": "3.13.0"
  }
 },
 "nbformat": 4,
 "nbformat_minor": 5
}
